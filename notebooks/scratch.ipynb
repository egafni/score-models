{
 "cells": [
  {
   "cell_type": "code",
   "execution_count": null,
   "metadata": {},
   "outputs": [],
   "source": [
    "#| echo: false\n",
    "%load_ext autoreload\n",
    "%autoreload 2\n",
    "%config InlineBackend.figure_format = 'retina'"
   ]
  },
  {
   "cell_type": "code",
   "execution_count": null,
   "metadata": {},
   "outputs": [],
   "source": [
    "from score_models.losses import score_matching_loss\n",
    "from score_models.models.feedforward import FeedForwardModel\n",
    "from score_models.models.gaussian import GaussianModel\n",
    "from score_models.data import make_gaussian\n",
    "from score_models.training import fit, default_optimizer, adam_optimizer\n",
    "import matplotlib.pyplot as plt\n",
    "\n",
    "from jax import random, numpy as np, vmap, jacfwd\n",
    "import optax \n",
    "\n",
    "data = make_gaussian()\n",
    "model = GaussianModel()\n",
    "model, history = fit(model, data, score_matching_loss, optimizer=adam_optimizer(), steps=600)\n",
    "plt.plot(history)"
   ]
  },
  {
   "cell_type": "code",
   "execution_count": null,
   "metadata": {},
   "outputs": [],
   "source": [
    "data = make_gaussian()\n",
    "model = FeedForwardModel()\n",
    "print(vmap(model)(data).shape, vmap(jacfwd(model))(data).shape)\n",
    "\n",
    "score_matching_loss(model_func=model, batch=data)"
   ]
  },
  {
   "cell_type": "code",
   "execution_count": null,
   "metadata": {},
   "outputs": [],
   "source": []
  },
  {
   "cell_type": "code",
   "execution_count": null,
   "metadata": {},
   "outputs": [],
   "source": [
    "import equinox as eqx\n",
    "from jax import grad, nn\n",
    "dloss = eqx.filter_jit(eqx.filter_grad(score_matching_loss))\n",
    "# optimizer = optax.chain(\n",
    "#     optax.clip(0.01),\n",
    "#     optax.sgd(learning_rate=5e-3),\n",
    "# )\n",
    "optimizer = optax.adabelief(learning_rate=1e-3)\n",
    "# model = GaussianModel()\n",
    "model = eqx.nn.Sequential(\n",
    "    [\n",
    "        eqx.nn.Linear(in_features=1, out_features=1024, key=random.PRNGKey(45)),\n",
    "        nn.relu(),\n",
    "        eqx.nn.Linear(in_features=1024, out_features=1, key=random.PRNGKey(39)),\n",
    "    ]\n",
    ")\n",
    "opt_state = optimizer.init(model)\n",
    "# print(score_matching_loss(model_func=model, batch=data))\n",
    "# model = eqx.nn.MLP(\n",
    "#             in_size=1,\n",
    "#             out_size=1,\n",
    "#             width_size=1024,\n",
    "#             depth=1,\n",
    "#             key=random.PRNGKey(45),\n",
    "#         )\n",
    "\n",
    "# opt_state = optimizer.init(model)\n",
    "# grads = dloss(model, data)\n",
    "# updates, opt_state = optimizer.update(grads, opt_state)\n",
    "# model = eqx.apply_updates(model, updates)\n",
    "# print(score_matching_loss(model_func=model, batch=data))"
   ]
  },
  {
   "cell_type": "code",
   "execution_count": null,
   "metadata": {},
   "outputs": [],
   "source": [
    "dir(updates.submodule)"
   ]
  },
  {
   "cell_type": "code",
   "execution_count": null,
   "metadata": {},
   "outputs": [],
   "source": [
    "updates.mu\n"
   ]
  },
  {
   "cell_type": "code",
   "execution_count": null,
   "metadata": {},
   "outputs": [],
   "source": [
    "# DEBUG\n",
    "grads.mu"
   ]
  },
  {
   "cell_type": "code",
   "execution_count": null,
   "metadata": {},
   "outputs": [],
   "source": [
    "data = make_gaussian()\n",
    "model = GaussianModel()\n",
    "print(vmap(model)(data).shape, vmap(jacfwd(model))(data).shape)\n"
   ]
  },
  {
   "cell_type": "code",
   "execution_count": null,
   "metadata": {},
   "outputs": [],
   "source": []
  },
  {
   "cell_type": "code",
   "execution_count": null,
   "metadata": {},
   "outputs": [],
   "source": [
    "import optax \n",
    "import equinox as eqx \n",
    "from jax.example_libraries import stax\n",
    "from jax import random, nn\n",
    "\n",
    "optimizer = optax.adabelief(learning_rate=1e-3)\n",
    "# model = GaussianModel()\n",
    "model = eqx.nn.Sequential(\n",
    "    [\n",
    "        eqx.nn.Linear(in_features=1, out_features=1024, key=random.PRNGKey(45)),\n",
    "        nn.relu,  # no problem when commented out\n",
    "        eqx.nn.Linear(in_features=1024, out_features=1, key=random.PRNGKey(39)),\n",
    "    ]\n",
    ")\n",
    "opt_state = optimizer.init(model)\n"
   ]
  },
  {
   "cell_type": "code",
   "execution_count": null,
   "metadata": {},
   "outputs": [],
   "source": []
  },
  {
   "cell_type": "code",
   "execution_count": null,
   "metadata": {},
   "outputs": [],
   "source": []
  }
 ],
 "metadata": {
  "interpreter": {
   "hash": "499aa38474d161e044ebb3be9240784e1719d4331ad512ef6546dcd230708004"
  },
  "kernelspec": {
   "display_name": "Python 3.9.12 ('score-models')",
   "language": "python",
   "name": "python3"
  },
  "language_info": {
   "codemirror_mode": {
    "name": "ipython",
    "version": 3
   },
   "file_extension": ".py",
   "mimetype": "text/x-python",
   "name": "python",
   "nbconvert_exporter": "python",
   "pygments_lexer": "ipython3",
   "version": "3.9.12"
  }
 },
 "nbformat": 4,
 "nbformat_minor": 2
}
